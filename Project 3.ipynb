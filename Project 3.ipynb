{
 "cells": [
  {
   "cell_type": "markdown",
   "metadata": {},
   "source": [
    "## Project 3\n",
    "\n",
    "Haig Bedros, Nori Selina, Julia Ferris, Matthew Roland"
   ]
  },
  {
   "cell_type": "markdown",
   "metadata": {},
   "source": [
    "Project 3 - Your project should be submitted (as a Jupyter Notebook via GitHub) by end of the due date. The group should present their code and findings in our meetup. The ability to be an effective member of a virtual team is highly valued in the data science job market.  \n",
    "\n",
    "Using any of the three classifiers described in chapter 6 of Natural Language Processing with Python, and any features you can think of, build the best name gender classifier you can. \n",
    "\n",
    "Begin by splitting the Names Corpus into three subsets: 500 words for the test set, 500 words for the dev-test set, and the remaining 6900 words for the training set. Then, starting with the example name gender classifier, make incremental improvements. Use the dev-test set to check your progress. Once you are satisfied with your classifier, check its final performance on the test set.\n",
    "\n",
    "How does the performance on the test set compare to the performance on the dev-test set?\n",
    "Is this what you'd expect?\n",
    "Source: Natural Language Processing with Python, exercise 6.10.2."
   ]
  },
  {
   "cell_type": "code",
   "execution_count": 37,
   "metadata": {},
   "outputs": [],
   "source": [
    "import pandas as pd\n",
    "import numpy as np\n",
    "import nltk\n",
    "from nltk.corpus import names\n",
    "from nltk.classify import apply_features\n",
    "import random"
   ]
  },
  {
   "cell_type": "markdown",
   "metadata": {},
   "source": [
    "## Defining a function to extract gender features\n",
    "\n",
    "This function simply returns both the last character of a word and the last 2 characters of a word, respectively. For our model, we will be using these suffices to classify whether a name is masculine or feminine."
   ]
  },
  {
   "cell_type": "code",
   "execution_count": 30,
   "metadata": {},
   "outputs": [],
   "source": [
    "def gender_features(word):\n",
    "    return {'suffix1': word[-1],\n",
    "            'suffix2': word[-2]}"
   ]
  },
  {
   "cell_type": "markdown",
   "metadata": {},
   "source": [
    "## Loading the Names Corpus"
   ]
  },
  {
   "cell_type": "code",
   "execution_count": 38,
   "metadata": {},
   "outputs": [],
   "source": [
    "#nltk.download()\n",
    "names = ([(name, 'male') for name in names.words('male.txt')] +\n",
    "         [(name, 'female') for name in names.words('female.txt')])\n",
    "random.seed(12345)\n",
    "random.shuffle(names)"
   ]
  },
  {
   "cell_type": "markdown",
   "metadata": {},
   "source": [
    "## Creating Train, Test, and Development Sets"
   ]
  },
  {
   "cell_type": "code",
   "execution_count": 52,
   "metadata": {},
   "outputs": [
    {
     "name": "stdout",
     "output_type": "stream",
     "text": [
      "Accuracy of test set: 0.738692019590896\n",
      "Accuracy of dev test set: 0.7385229540918163\n"
     ]
    }
   ],
   "source": [
    "featuresets = [(gender_features(n), g) for (n,g) in names]\n",
    "\n",
    "train_set, test_set, dev_test = featuresets[0:501], featuresets[1002:], featuresets[501:1002]\n",
    "\n",
    "classifier = nltk.NaiveBayesClassifier.train(train_set)\n",
    "\n",
    "print(\"Accuracy of test set:\", nltk.classify.accuracy(classifier, test_set))\n",
    "print('Accuracy of dev test set:', nltk.classify.accuracy(classifier, dev_test))"
   ]
  },
  {
   "cell_type": "markdown",
   "metadata": {},
   "source": [
    "As we can see, this classifier performs with an accuracy of ~.75, which is sufficient, but can certainly be improved upon."
   ]
  },
  {
   "cell_type": "code",
   "execution_count": 51,
   "metadata": {},
   "outputs": [
    {
     "name": "stdout",
     "output_type": "stream",
     "text": [
      "correct=female   guess=male     name=Aidan                         \n",
      "correct=female   guess=male     name=Aileen                        \n",
      "correct=female   guess=male     name=Alisun                        \n",
      "correct=female   guess=male     name=Astrix                        \n",
      "correct=female   guess=male     name=Bab                           \n",
      "correct=female   guess=male     name=Bette-Ann                     \n",
      "correct=female   guess=male     name=Bev                           \n",
      "correct=female   guess=male     name=Birgit                        \n",
      "correct=female   guess=male     name=Brigit                        \n",
      "correct=female   guess=male     name=Cal                           \n",
      "correct=female   guess=male     name=Carilyn                       \n",
      "correct=female   guess=male     name=Carmon                        \n",
      "correct=female   guess=male     name=Chad                          \n",
      "correct=female   guess=male     name=Christean                     \n",
      "correct=female   guess=male     name=Cloe                          \n",
      "correct=female   guess=male     name=Coreen                        \n",
      "correct=female   guess=male     name=Cristin                       \n",
      "correct=female   guess=male     name=Ellyn                         \n",
      "correct=female   guess=male     name=Felicdad                      \n",
      "correct=female   guess=male     name=Georgiamay                    \n",
      "correct=female   guess=male     name=Glen                          \n",
      "correct=female   guess=male     name=Grissel                       \n",
      "correct=female   guess=male     name=Gwyn                          \n",
      "correct=female   guess=male     name=Hedwig                        \n",
      "correct=female   guess=male     name=Hester                        \n",
      "correct=female   guess=male     name=Iris                          \n",
      "correct=female   guess=male     name=Jacqui                        \n",
      "correct=female   guess=male     name=Jenn                          \n",
      "correct=female   guess=male     name=Joyann                        \n",
      "correct=female   guess=male     name=Karrah                        \n",
      "correct=female   guess=male     name=Karyn                         \n",
      "correct=female   guess=male     name=Kristyn                       \n",
      "correct=female   guess=male     name=Leigh                         \n",
      "correct=female   guess=male     name=Lindsay                       \n",
      "correct=female   guess=male     name=Lois                          \n",
      "correct=female   guess=male     name=Lynn                          \n",
      "correct=female   guess=male     name=Maren                         \n",
      "correct=female   guess=male     name=Margeaux                      \n",
      "correct=female   guess=male     name=Margo                         \n",
      "correct=female   guess=male     name=Maryangelyn                   \n",
      "correct=female   guess=male     name=Meagan                        \n",
      "correct=female   guess=male     name=Mellicent                     \n",
      "correct=female   guess=male     name=Meridel                       \n",
      "correct=female   guess=male     name=Mitzi                         \n",
      "correct=female   guess=male     name=Pris                          \n",
      "correct=female   guess=male     name=Rahal                         \n",
      "correct=female   guess=male     name=Rakel                         \n",
      "correct=female   guess=male     name=Riannon                       \n",
      "correct=female   guess=male     name=Robbin                        \n",
      "correct=female   guess=male     name=Robyn                         \n",
      "correct=female   guess=male     name=Suzann                        \n",
      "correct=female   guess=male     name=Timmi                         \n",
      "correct=female   guess=male     name=Viviyan                       \n",
      "correct=female   guess=male     name=Zorah                         \n",
      "correct=male     guess=female   name=Abe                           \n",
      "correct=male     guess=female   name=Adolph                        \n",
      "correct=male     guess=female   name=Anatoly                       \n",
      "correct=male     guess=female   name=Andrey                        \n",
      "correct=male     guess=female   name=Aziz                          \n",
      "correct=male     guess=female   name=Baillie                       \n",
      "correct=male     guess=female   name=Barnaby                       \n",
      "correct=male     guess=female   name=Barth                         \n",
      "correct=male     guess=female   name=Chane                         \n",
      "correct=male     guess=female   name=Charley                       \n",
      "correct=male     guess=female   name=Clair                         \n",
      "correct=male     guess=female   name=Clancy                        \n",
      "correct=male     guess=female   name=Clayborne                     \n",
      "correct=male     guess=female   name=Clive                         \n",
      "correct=male     guess=female   name=Cobbie                        \n",
      "correct=male     guess=female   name=Corby                         \n",
      "correct=male     guess=female   name=Darcy                         \n",
      "correct=male     guess=female   name=Dewey                         \n",
      "correct=male     guess=female   name=Dominick                      \n",
      "correct=male     guess=female   name=Doyle                         \n",
      "correct=male     guess=female   name=Erich                         \n",
      "correct=male     guess=female   name=Ernst                         \n",
      "correct=male     guess=female   name=Eustace                       \n",
      "correct=male     guess=female   name=Farley                        \n",
      "correct=male     guess=female   name=Ferdie                        \n",
      "correct=male     guess=female   name=Fonsie                        \n",
      "correct=male     guess=female   name=Fredrick                      \n",
      "correct=male     guess=female   name=Gabriele                      \n",
      "correct=male     guess=female   name=Geoffrey                      \n",
      "correct=male     guess=female   name=George                        \n",
      "correct=male     guess=female   name=Giorgi                        \n",
      "correct=male     guess=female   name=Granville                     \n",
      "correct=male     guess=female   name=Greggory                      \n",
      "correct=male     guess=female   name=Gustavo                       \n",
      "correct=male     guess=female   name=Henrie                        \n",
      "correct=male     guess=female   name=Henrique                      \n",
      "correct=male     guess=female   name=Hirsch                        \n",
      "correct=male     guess=female   name=Jae                           \n",
      "correct=male     guess=female   name=Jean-Pierre                   \n",
      "correct=male     guess=female   name=Joey                          \n",
      "correct=male     guess=female   name=Julie                         \n",
      "correct=male     guess=female   name=Kane                          \n",
      "correct=male     guess=female   name=Kendall                       \n",
      "correct=male     guess=female   name=Lyle                          \n",
      "correct=male     guess=female   name=Manish                        \n",
      "correct=male     guess=female   name=Mike                          \n",
      "correct=male     guess=female   name=Mugsy                         \n",
      "correct=male     guess=female   name=Nickie                        \n",
      "correct=male     guess=female   name=Parke                         \n",
      "correct=male     guess=female   name=Pennie                        \n",
      "correct=male     guess=female   name=Pryce                         \n",
      "correct=male     guess=female   name=Pyotr                         \n",
      "correct=male     guess=female   name=Rice                          \n",
      "correct=male     guess=female   name=Rickey                        \n",
      "correct=male     guess=female   name=Riley                         \n",
      "correct=male     guess=female   name=Rodolph                       \n",
      "correct=male     guess=female   name=Ronny                         \n",
      "correct=male     guess=female   name=Rudolph                       \n",
      "correct=male     guess=female   name=Sandy                         \n",
      "correct=male     guess=female   name=Sansone                       \n",
      "correct=male     guess=female   name=Scottie                       \n",
      "correct=male     guess=female   name=Sky                           \n",
      "correct=male     guess=female   name=Solly                         \n",
      "correct=male     guess=female   name=Steve                         \n",
      "correct=male     guess=female   name=Tabbie                        \n",
      "correct=male     guess=female   name=Tedrick                       \n",
      "correct=male     guess=female   name=Terrell                       \n",
      "correct=male     guess=female   name=Timmie                        \n",
      "correct=male     guess=female   name=Toddie                        \n",
      "correct=male     guess=female   name=Toddy                         \n",
      "correct=male     guess=female   name=Vasili                        \n",
      "correct=male     guess=female   name=Vassily                       \n",
      "correct=male     guess=female   name=Verne                         \n",
      "correct=male     guess=female   name=Vincents                      \n",
      "correct=male     guess=female   name=Waverly                       \n",
      "correct=male     guess=female   name=Wiley                         \n",
      "correct=male     guess=female   name=Yank                          \n"
     ]
    }
   ],
   "source": [
    "dev_test_names = names[501:1002]\n",
    "\n",
    "errors = []\n",
    "for (name, tag) in dev_test_names:\n",
    "    guess = classifier.classify(gender_features(name))\n",
    "    if guess != tag:\n",
    "        errors.append((tag, guess, name))\n",
    "\n",
    "for (tag, guess, name) in sorted(errors):\n",
    "    print('correct={:<8} guess={:<8} name={:<30}'.format(tag, guess, name))\n",
    "    "
   ]
  },
  {
   "cell_type": "markdown",
   "metadata": {},
   "source": [
    "The list of errors produced can give us hints regarding ways to modify our model. For instance, we can see that the model appears to overcorrect male names based on the last 2 characters of the string. Perhaps incorporating the first character of a string may ameliorate this issue"
   ]
  },
  {
   "cell_type": "markdown",
   "metadata": {},
   "source": [
    "## Refining the Classification Model"
   ]
  },
  {
   "cell_type": "code",
   "execution_count": 70,
   "metadata": {},
   "outputs": [],
   "source": [
    "def gender_features_2(word):\n",
    "    return {'suffix1': word[-1],\n",
    "            'suffix2': word[-2],\n",
    "            'prefix1': word[0],\n",
    "            'prefix2': word[1],\n",
    "            'length': len(word),\n",
    "            'vowels': sum(1 for v in word.lower() if v in 'aeiou'),\n",
    "            'consonants': sum(1 for c in word.lower() if c not in 'aeiou'),\n",
    "            'suffix_vowel': word[0] in 'aeiou'}   "
   ]
  },
  {
   "cell_type": "code",
   "execution_count": 71,
   "metadata": {},
   "outputs": [
    {
     "name": "stdout",
     "output_type": "stream",
     "text": [
      "Accuracy of test set: 0.754393546528378\n",
      "Accuracy of dev test set: 0.7644710578842315\n"
     ]
    }
   ],
   "source": [
    "featuresets = [(gender_features_2(n), g) for (n,g) in names]\n",
    "\n",
    "train_set_2, test_set_2, dev_test_2 = featuresets[0:501], featuresets[1002:], featuresets[501:1002]\n",
    "\n",
    "classifier_2 = nltk.NaiveBayesClassifier.train(train_set_2)\n",
    "\n",
    "print(\"Accuracy of test set:\", nltk.classify.accuracy(classifier_2, test_set_2))\n",
    "print('Accuracy of dev test set:', nltk.classify.accuracy(classifier_2, dev_test_2))"
   ]
  }
 ],
 "metadata": {
  "kernelspec": {
   "display_name": "Python 3",
   "language": "python",
   "name": "python3"
  },
  "language_info": {
   "codemirror_mode": {
    "name": "ipython",
    "version": 3
   },
   "file_extension": ".py",
   "mimetype": "text/x-python",
   "name": "python",
   "nbconvert_exporter": "python",
   "pygments_lexer": "ipython3",
   "version": "3.12.1"
  }
 },
 "nbformat": 4,
 "nbformat_minor": 2
}
